{
 "cells": [
  {
   "cell_type": "code",
   "execution_count": 1,
   "id": "83b9e48b",
   "metadata": {},
   "outputs": [],
   "source": [
    "\n",
    "import pandas as pd\n",
    "from sklearn.linear_model import LogisticRegression\n"
   ]
  },
  {
   "cell_type": "code",
   "execution_count": 2,
   "id": "3a833d89",
   "metadata": {},
   "outputs": [
    {
     "name": "stdout",
     "output_type": "stream",
     "text": [
      " Volume in drive C is Windows-SSD\n",
      " Volume Serial Number is AA8E-7C58\n",
      "\n",
      " Directory of C:\\Users\\91720\\OneDrive\\Documents\\ExcelR data science\n",
      "\n",
      "10-06-2022  21:47    <DIR>          .\n",
      "07-06-2022  21:14    <DIR>          ..\n",
      "10-06-2022  21:45    <DIR>          .ipynb_checkpoints\n",
      "26-05-2022  22:13             2,436 50_Startups.csv\n",
      "23-03-2022  18:19            30,582 Afinn.csv\n",
      "26-05-2022  22:03            92,594 AI [Regression ].ipynb\n",
      "10-03-2022  15:29            37,286 Anova and Chisquare.ipynb\n",
      "23-03-2022  18:19            23,666 apple.txt\n",
      "30-04-2022  16:58            49,476 Assignment (1).docx\n",
      "03-05-2022  21:47            51,050 Assignment 1.docx\n",
      "26-05-2022  22:12            22,462 Assignment 4 Q2.ipynb\n",
      "01-06-2022  22:30           528,239 Assignment 5 Q1 startup.ipynb\n",
      "06-06-2022  22:18         1,583,525 Assignment 5 Q2 ToyotaCorolla.ipynb\n",
      "26-05-2022  22:03            37,653 Assignment-4 Q1.ipynb\n",
      "08-03-2022  08:32            17,679 Association Rules.ipynb\n",
      "16-03-2022  07:51            12,569 Bagging_Random Forest_Boosting_Stacking.ipynb\n",
      "07-06-2022  21:50         4,610,348 bank-full.csv\n",
      "15-02-2022  08:37           103,983 BEML.csv\n",
      "15-02-2022  08:37            87,155 beml_df.csv\n",
      "02-05-2022  21:12               342 Book1.csv\n",
      "02-05-2022  21:08            10,493 Book1.csv.xlsx\n",
      "02-05-2022  21:07            10,469 Book1.xlsx\n",
      "02-05-2022  21:09            10,493 c.xlsx\n",
      "02-03-2022  08:44             3,527 Cars.csv\n",
      "04-02-2022  09:02         2,014,447 Chapter 1_ Descriptive Statistics and the Normal Distribution - Natural Resources Biometrics.pdf\n",
      "10-03-2022  11:21             1,456 chi2.ipynb\n",
      "07-03-2022  07:36            29,822 claimants (1).csv\n",
      "07-03-2022  16:37            11,330 Confidence Interval.ipynb\n",
      "12-05-2022  21:50               525 Cutlets (1).csv\n",
      "06-04-2022  18:50            67,923 daily-minimum-temperatures (1).csv\n",
      "14-03-2022  08:54           314,582 Decision Tree_C5.0_CART.ipynb\n",
      "24-05-2022  21:17               218 delivery_time.csv\n",
      "05-04-2022  18:41            23,873 diabetes.csv\n",
      "06-04-2022  18:49             9,197 footfalls.csv\n",
      "06-04-2022  18:49           116,207 Forecasting Model_Arima (1).ipynb\n",
      "04-04-2022  18:44           116,207 Forecasting Model_Arima.ipynb\n",
      "06-04-2022  18:49           889,022 Forecasting_Data Driven Models.ipynb\n",
      "15-02-2022  08:37           107,633 GLAXO.csv\n",
      "15-02-2022  08:37            88,939 glaxo_df.csv\n",
      "10-03-2022  07:37           231,420 Hierarchical Clustering (1).ipynb\n",
      "09-03-2022  16:36            17,505 Hypothesis Test.ipynb\n",
      "04-02-2022  09:02         2,025,411 kemh116.pdf\n",
      "16-03-2022  07:32            31,754 KNN.ipynb\n",
      "10-06-2022  21:43            62,525 Logistic Regression (1).ipynb\n",
      "08-03-2022  08:21           234,909 Movie.csv\n",
      "09-02-2022  07:22             1,336 mtcars.csv\n",
      "29-05-2022  19:03           791,389 Multi Linear Regression 1\n",
      "31-05-2022  21:17           622,657 Multi Linear Regression.ipynb\n",
      "31-05-2022  21:44           789,556 Multi Linear Regression2.ipynb\n",
      "05-04-2022  18:41           469,559 naive classifier.ipynb\n",
      "23-03-2022  18:24           142,445 Named Entity Recognition_Emotion Mining_final.ipynb\n",
      "23-03-2022  18:19            64,714 NLP-Copy1.ipynb\n",
      "23-03-2022  18:19            61,956 NLP-food-review.csv\n",
      "05-05-2022  22:29           200,183 Normal Disribution.ipynb\n",
      "01-05-2022  13:08           235,200 Pandas_Introduction.ipynb\n",
      "17-03-2022  08:45           137,846 PCA.ipynb\n",
      "30-03-2022  18:51            23,279 pima-indians-diabetes.data (2) (1).csv\n",
      "16-03-2022  07:32            23,279 pima-indians-diabetes.data (2).csv\n",
      "16-03-2022  07:30            23,279 pima-indians-diabetes.data.csv\n",
      "16-05-2022  21:22            10,408 practice.ipynb\n",
      "24-04-2022  13:06            48,661 python_morning.ipynb\n",
      "18-04-2022  22:31               962 Q7.csv\n",
      "24-04-2022  13:20               502 Q9_a.csv\n",
      "24-04-2022  13:42             2,420 Q9_b.csv\n",
      "09-03-2022  07:44           106,193 Recommendation Engine.ipynb\n",
      "25-04-2022  20:52           628,981 Resume4.pdf\n",
      "18-03-2022  08:50            45,601 Ridge_Lasso_ElasticNet.ipynb\n",
      "24-05-2022  21:17               454 Salary_Data.csv\n",
      "25-04-2022  21:27           335,145 SaurabhPashilkar.pdf\n",
      "15-02-2022  08:37    <DIR>          ss\n",
      "07-02-2022  08:55         6,581,156 Stats-ML-in-Python-1641362703 (1).pdf\n",
      "30-03-2022  18:51            52,649 SVM (1).ipynb\n",
      "08-03-2022  08:21            44,382 Titanic.csv\n",
      "26-05-2022  22:13           224,041 ToyotaCorolla.csv\n",
      "10-03-2022  07:34               827 Universities (1).csv\n",
      "17-03-2022  08:45               827 Universities (2)\n",
      "18-04-2022  23:03            29,199 Untitled.ipynb\n",
      "24-04-2022  13:44            10,491 Untitled1.ipynb\n",
      "01-05-2022  14:45            10,974 Untitled2.ipynb\n",
      "02-05-2022  21:20            12,294 Untitled3.ipynb\n",
      "05-05-2022  22:30             1,520 Untitled4.ipynb\n",
      "10-06-2022  21:47               589 Untitled5.ipynb\n",
      "06-04-2022  18:49            83,968 Visualisation.ipynb\n",
      "24-04-2022  13:19         1,262,990 Visualization_mat_seaborn_Latest.ipynb\n",
      "06-04-2022  18:49               962 water.csv\n",
      "25-02-2022  08:49             1,172 wc-at.csv\n",
      "              82 File(s)     26,804,978 bytes\n",
      "               4 Dir(s)  134,714,114,048 bytes free\n"
     ]
    }
   ],
   "source": [
    "ls"
   ]
  },
  {
   "cell_type": "code",
   "execution_count": 5,
   "id": "2f0d0349",
   "metadata": {},
   "outputs": [
    {
     "data": {
      "text/html": [
       "<div>\n",
       "<style scoped>\n",
       "    .dataframe tbody tr th:only-of-type {\n",
       "        vertical-align: middle;\n",
       "    }\n",
       "\n",
       "    .dataframe tbody tr th {\n",
       "        vertical-align: top;\n",
       "    }\n",
       "\n",
       "    .dataframe thead th {\n",
       "        text-align: right;\n",
       "    }\n",
       "</style>\n",
       "<table border=\"1\" class=\"dataframe\">\n",
       "  <thead>\n",
       "    <tr style=\"text-align: right;\">\n",
       "      <th></th>\n",
       "      <th>age</th>\n",
       "      <th>job</th>\n",
       "      <th>marital</th>\n",
       "      <th>education</th>\n",
       "      <th>default</th>\n",
       "      <th>balance</th>\n",
       "      <th>housing</th>\n",
       "      <th>loan</th>\n",
       "      <th>contact</th>\n",
       "      <th>day</th>\n",
       "      <th>month</th>\n",
       "      <th>duration</th>\n",
       "      <th>campaign</th>\n",
       "      <th>pdays</th>\n",
       "      <th>previous</th>\n",
       "      <th>poutcome</th>\n",
       "      <th>y</th>\n",
       "    </tr>\n",
       "  </thead>\n",
       "  <tbody>\n",
       "    <tr>\n",
       "      <th>0</th>\n",
       "      <td>58</td>\n",
       "      <td>management</td>\n",
       "      <td>married</td>\n",
       "      <td>tertiary</td>\n",
       "      <td>no</td>\n",
       "      <td>2143</td>\n",
       "      <td>yes</td>\n",
       "      <td>no</td>\n",
       "      <td>unknown</td>\n",
       "      <td>5</td>\n",
       "      <td>may</td>\n",
       "      <td>261</td>\n",
       "      <td>1</td>\n",
       "      <td>-1</td>\n",
       "      <td>0</td>\n",
       "      <td>unknown</td>\n",
       "      <td>no</td>\n",
       "    </tr>\n",
       "    <tr>\n",
       "      <th>1</th>\n",
       "      <td>44</td>\n",
       "      <td>technician</td>\n",
       "      <td>single</td>\n",
       "      <td>secondary</td>\n",
       "      <td>no</td>\n",
       "      <td>29</td>\n",
       "      <td>yes</td>\n",
       "      <td>no</td>\n",
       "      <td>unknown</td>\n",
       "      <td>5</td>\n",
       "      <td>may</td>\n",
       "      <td>151</td>\n",
       "      <td>1</td>\n",
       "      <td>-1</td>\n",
       "      <td>0</td>\n",
       "      <td>unknown</td>\n",
       "      <td>no</td>\n",
       "    </tr>\n",
       "    <tr>\n",
       "      <th>2</th>\n",
       "      <td>33</td>\n",
       "      <td>entrepreneur</td>\n",
       "      <td>married</td>\n",
       "      <td>secondary</td>\n",
       "      <td>no</td>\n",
       "      <td>2</td>\n",
       "      <td>yes</td>\n",
       "      <td>yes</td>\n",
       "      <td>unknown</td>\n",
       "      <td>5</td>\n",
       "      <td>may</td>\n",
       "      <td>76</td>\n",
       "      <td>1</td>\n",
       "      <td>-1</td>\n",
       "      <td>0</td>\n",
       "      <td>unknown</td>\n",
       "      <td>no</td>\n",
       "    </tr>\n",
       "    <tr>\n",
       "      <th>3</th>\n",
       "      <td>47</td>\n",
       "      <td>blue-collar</td>\n",
       "      <td>married</td>\n",
       "      <td>unknown</td>\n",
       "      <td>no</td>\n",
       "      <td>1506</td>\n",
       "      <td>yes</td>\n",
       "      <td>no</td>\n",
       "      <td>unknown</td>\n",
       "      <td>5</td>\n",
       "      <td>may</td>\n",
       "      <td>92</td>\n",
       "      <td>1</td>\n",
       "      <td>-1</td>\n",
       "      <td>0</td>\n",
       "      <td>unknown</td>\n",
       "      <td>no</td>\n",
       "    </tr>\n",
       "    <tr>\n",
       "      <th>4</th>\n",
       "      <td>33</td>\n",
       "      <td>unknown</td>\n",
       "      <td>single</td>\n",
       "      <td>unknown</td>\n",
       "      <td>no</td>\n",
       "      <td>1</td>\n",
       "      <td>no</td>\n",
       "      <td>no</td>\n",
       "      <td>unknown</td>\n",
       "      <td>5</td>\n",
       "      <td>may</td>\n",
       "      <td>198</td>\n",
       "      <td>1</td>\n",
       "      <td>-1</td>\n",
       "      <td>0</td>\n",
       "      <td>unknown</td>\n",
       "      <td>no</td>\n",
       "    </tr>\n",
       "  </tbody>\n",
       "</table>\n",
       "</div>"
      ],
      "text/plain": [
       "   age           job  marital  education default  balance housing loan  \\\n",
       "0   58    management  married   tertiary      no     2143     yes   no   \n",
       "1   44    technician   single  secondary      no       29     yes   no   \n",
       "2   33  entrepreneur  married  secondary      no        2     yes  yes   \n",
       "3   47   blue-collar  married    unknown      no     1506     yes   no   \n",
       "4   33       unknown   single    unknown      no        1      no   no   \n",
       "\n",
       "   contact  day month  duration  campaign  pdays  previous poutcome   y  \n",
       "0  unknown    5   may       261         1     -1         0  unknown  no  \n",
       "1  unknown    5   may       151         1     -1         0  unknown  no  \n",
       "2  unknown    5   may        76         1     -1         0  unknown  no  \n",
       "3  unknown    5   may        92         1     -1         0  unknown  no  \n",
       "4  unknown    5   may       198         1     -1         0  unknown  no  "
      ]
     },
     "execution_count": 5,
     "metadata": {},
     "output_type": "execute_result"
    }
   ],
   "source": [
    "df=pd.read_csv(\"bank-full.csv\",sep=';')\n",
    "df.head()"
   ]
  },
  {
   "cell_type": "code",
   "execution_count": 53,
   "id": "a154e960",
   "metadata": {},
   "outputs": [
    {
     "data": {
      "text/plain": [
       "no     39922\n",
       "yes     5289\n",
       "Name: y, dtype: int64"
      ]
     },
     "execution_count": 53,
     "metadata": {},
     "output_type": "execute_result"
    }
   ],
   "source": [
    "df[\"y\"].value_counts()"
   ]
  },
  {
   "cell_type": "code",
   "execution_count": 9,
   "id": "76ea17bd",
   "metadata": {},
   "outputs": [
    {
     "name": "stdout",
     "output_type": "stream",
     "text": [
      "<class 'pandas.core.frame.DataFrame'>\n",
      "RangeIndex: 45211 entries, 0 to 45210\n",
      "Data columns (total 5 columns):\n",
      " #   Column    Non-Null Count  Dtype \n",
      "---  ------    --------------  ----- \n",
      " 0   age       45211 non-null  int64 \n",
      " 1   balance   45211 non-null  int64 \n",
      " 2   duration  45211 non-null  int64 \n",
      " 3   campaign  45211 non-null  int64 \n",
      " 4   y         45211 non-null  object\n",
      "dtypes: int64(4), object(1)\n",
      "memory usage: 1.7+ MB\n"
     ]
    }
   ],
   "source": [
    "columns = ['age', 'balance', 'duration', 'campaign', 'y']\n",
    "df_sel = df[columns]\n",
    "df_sel.info()"
   ]
  },
  {
   "cell_type": "code",
   "execution_count": 12,
   "id": "c10be6c5",
   "metadata": {},
   "outputs": [
    {
     "data": {
      "text/plain": [
       "age         0\n",
       "balance     0\n",
       "duration    0\n",
       "campaign    0\n",
       "y           0\n",
       "dtype: int64"
      ]
     },
     "execution_count": 12,
     "metadata": {},
     "output_type": "execute_result"
    }
   ],
   "source": [
    "df_sel.isna().sum()"
   ]
  },
  {
   "cell_type": "code",
   "execution_count": 19,
   "id": "e0da8a91",
   "metadata": {},
   "outputs": [],
   "source": [
    "X = df_sel.iloc[:,0:4]\n",
    "Y = df_sel.iloc[:,4]"
   ]
  },
  {
   "cell_type": "code",
   "execution_count": 20,
   "id": "56b081fd",
   "metadata": {},
   "outputs": [
    {
     "data": {
      "text/html": [
       "<div>\n",
       "<style scoped>\n",
       "    .dataframe tbody tr th:only-of-type {\n",
       "        vertical-align: middle;\n",
       "    }\n",
       "\n",
       "    .dataframe tbody tr th {\n",
       "        vertical-align: top;\n",
       "    }\n",
       "\n",
       "    .dataframe thead th {\n",
       "        text-align: right;\n",
       "    }\n",
       "</style>\n",
       "<table border=\"1\" class=\"dataframe\">\n",
       "  <thead>\n",
       "    <tr style=\"text-align: right;\">\n",
       "      <th></th>\n",
       "      <th>age</th>\n",
       "      <th>balance</th>\n",
       "      <th>duration</th>\n",
       "      <th>campaign</th>\n",
       "    </tr>\n",
       "  </thead>\n",
       "  <tbody>\n",
       "    <tr>\n",
       "      <th>0</th>\n",
       "      <td>58</td>\n",
       "      <td>2143</td>\n",
       "      <td>261</td>\n",
       "      <td>1</td>\n",
       "    </tr>\n",
       "    <tr>\n",
       "      <th>1</th>\n",
       "      <td>44</td>\n",
       "      <td>29</td>\n",
       "      <td>151</td>\n",
       "      <td>1</td>\n",
       "    </tr>\n",
       "    <tr>\n",
       "      <th>2</th>\n",
       "      <td>33</td>\n",
       "      <td>2</td>\n",
       "      <td>76</td>\n",
       "      <td>1</td>\n",
       "    </tr>\n",
       "    <tr>\n",
       "      <th>3</th>\n",
       "      <td>47</td>\n",
       "      <td>1506</td>\n",
       "      <td>92</td>\n",
       "      <td>1</td>\n",
       "    </tr>\n",
       "    <tr>\n",
       "      <th>4</th>\n",
       "      <td>33</td>\n",
       "      <td>1</td>\n",
       "      <td>198</td>\n",
       "      <td>1</td>\n",
       "    </tr>\n",
       "    <tr>\n",
       "      <th>...</th>\n",
       "      <td>...</td>\n",
       "      <td>...</td>\n",
       "      <td>...</td>\n",
       "      <td>...</td>\n",
       "    </tr>\n",
       "    <tr>\n",
       "      <th>45206</th>\n",
       "      <td>51</td>\n",
       "      <td>825</td>\n",
       "      <td>977</td>\n",
       "      <td>3</td>\n",
       "    </tr>\n",
       "    <tr>\n",
       "      <th>45207</th>\n",
       "      <td>71</td>\n",
       "      <td>1729</td>\n",
       "      <td>456</td>\n",
       "      <td>2</td>\n",
       "    </tr>\n",
       "    <tr>\n",
       "      <th>45208</th>\n",
       "      <td>72</td>\n",
       "      <td>5715</td>\n",
       "      <td>1127</td>\n",
       "      <td>5</td>\n",
       "    </tr>\n",
       "    <tr>\n",
       "      <th>45209</th>\n",
       "      <td>57</td>\n",
       "      <td>668</td>\n",
       "      <td>508</td>\n",
       "      <td>4</td>\n",
       "    </tr>\n",
       "    <tr>\n",
       "      <th>45210</th>\n",
       "      <td>37</td>\n",
       "      <td>2971</td>\n",
       "      <td>361</td>\n",
       "      <td>2</td>\n",
       "    </tr>\n",
       "  </tbody>\n",
       "</table>\n",
       "<p>45211 rows × 4 columns</p>\n",
       "</div>"
      ],
      "text/plain": [
       "       age  balance  duration  campaign\n",
       "0       58     2143       261         1\n",
       "1       44       29       151         1\n",
       "2       33        2        76         1\n",
       "3       47     1506        92         1\n",
       "4       33        1       198         1\n",
       "...    ...      ...       ...       ...\n",
       "45206   51      825       977         3\n",
       "45207   71     1729       456         2\n",
       "45208   72     5715      1127         5\n",
       "45209   57      668       508         4\n",
       "45210   37     2971       361         2\n",
       "\n",
       "[45211 rows x 4 columns]"
      ]
     },
     "execution_count": 20,
     "metadata": {},
     "output_type": "execute_result"
    }
   ],
   "source": [
    "X"
   ]
  },
  {
   "cell_type": "code",
   "execution_count": 21,
   "id": "1c22ea12",
   "metadata": {},
   "outputs": [
    {
     "data": {
      "text/plain": [
       "0         no\n",
       "1         no\n",
       "2         no\n",
       "3         no\n",
       "4         no\n",
       "        ... \n",
       "45206    yes\n",
       "45207    yes\n",
       "45208    yes\n",
       "45209     no\n",
       "45210     no\n",
       "Name: y, Length: 45211, dtype: object"
      ]
     },
     "execution_count": 21,
     "metadata": {},
     "output_type": "execute_result"
    }
   ],
   "source": [
    "Y"
   ]
  },
  {
   "cell_type": "code",
   "execution_count": 22,
   "id": "59c87e32",
   "metadata": {},
   "outputs": [
    {
     "data": {
      "text/plain": [
       "LogisticRegression()"
      ]
     },
     "execution_count": 22,
     "metadata": {},
     "output_type": "execute_result"
    }
   ],
   "source": [
    "classifier = LogisticRegression()\n",
    "classifier.fit(X,Y)"
   ]
  },
  {
   "cell_type": "code",
   "execution_count": 23,
   "id": "7401e709",
   "metadata": {},
   "outputs": [
    {
     "data": {
      "text/plain": [
       "array([-3.24652357])"
      ]
     },
     "execution_count": 23,
     "metadata": {},
     "output_type": "execute_result"
    }
   ],
   "source": [
    "classifier.intercept_"
   ]
  },
  {
   "cell_type": "code",
   "execution_count": 24,
   "id": "38cfab1e",
   "metadata": {},
   "outputs": [
    {
     "data": {
      "text/plain": [
       "array([[ 7.69721804e-03,  3.72191058e-05,  3.54908906e-03,\n",
       "        -1.39828316e-01]])"
      ]
     },
     "execution_count": 24,
     "metadata": {},
     "output_type": "execute_result"
    }
   ],
   "source": [
    "classifier.coef_"
   ]
  },
  {
   "cell_type": "code",
   "execution_count": 25,
   "id": "19c37d3f",
   "metadata": {},
   "outputs": [],
   "source": [
    "y_pred = classifier.predict(X)"
   ]
  },
  {
   "cell_type": "code",
   "execution_count": 26,
   "id": "85d0dd48",
   "metadata": {},
   "outputs": [],
   "source": [
    "y_pred_df= pd.DataFrame({'actual': Y,\n",
    "                         'predicted_values': classifier.predict(X)})"
   ]
  },
  {
   "cell_type": "code",
   "execution_count": 27,
   "id": "da437f13",
   "metadata": {},
   "outputs": [
    {
     "data": {
      "text/html": [
       "<div>\n",
       "<style scoped>\n",
       "    .dataframe tbody tr th:only-of-type {\n",
       "        vertical-align: middle;\n",
       "    }\n",
       "\n",
       "    .dataframe tbody tr th {\n",
       "        vertical-align: top;\n",
       "    }\n",
       "\n",
       "    .dataframe thead th {\n",
       "        text-align: right;\n",
       "    }\n",
       "</style>\n",
       "<table border=\"1\" class=\"dataframe\">\n",
       "  <thead>\n",
       "    <tr style=\"text-align: right;\">\n",
       "      <th></th>\n",
       "      <th>actual</th>\n",
       "      <th>predicted_values</th>\n",
       "    </tr>\n",
       "  </thead>\n",
       "  <tbody>\n",
       "    <tr>\n",
       "      <th>0</th>\n",
       "      <td>no</td>\n",
       "      <td>no</td>\n",
       "    </tr>\n",
       "    <tr>\n",
       "      <th>1</th>\n",
       "      <td>no</td>\n",
       "      <td>no</td>\n",
       "    </tr>\n",
       "    <tr>\n",
       "      <th>2</th>\n",
       "      <td>no</td>\n",
       "      <td>no</td>\n",
       "    </tr>\n",
       "    <tr>\n",
       "      <th>3</th>\n",
       "      <td>no</td>\n",
       "      <td>no</td>\n",
       "    </tr>\n",
       "    <tr>\n",
       "      <th>4</th>\n",
       "      <td>no</td>\n",
       "      <td>no</td>\n",
       "    </tr>\n",
       "    <tr>\n",
       "      <th>...</th>\n",
       "      <td>...</td>\n",
       "      <td>...</td>\n",
       "    </tr>\n",
       "    <tr>\n",
       "      <th>45206</th>\n",
       "      <td>yes</td>\n",
       "      <td>yes</td>\n",
       "    </tr>\n",
       "    <tr>\n",
       "      <th>45207</th>\n",
       "      <td>yes</td>\n",
       "      <td>no</td>\n",
       "    </tr>\n",
       "    <tr>\n",
       "      <th>45208</th>\n",
       "      <td>yes</td>\n",
       "      <td>yes</td>\n",
       "    </tr>\n",
       "    <tr>\n",
       "      <th>45209</th>\n",
       "      <td>no</td>\n",
       "      <td>no</td>\n",
       "    </tr>\n",
       "    <tr>\n",
       "      <th>45210</th>\n",
       "      <td>no</td>\n",
       "      <td>no</td>\n",
       "    </tr>\n",
       "  </tbody>\n",
       "</table>\n",
       "<p>45211 rows × 2 columns</p>\n",
       "</div>"
      ],
      "text/plain": [
       "      actual predicted_values\n",
       "0         no               no\n",
       "1         no               no\n",
       "2         no               no\n",
       "3         no               no\n",
       "4         no               no\n",
       "...      ...              ...\n",
       "45206    yes              yes\n",
       "45207    yes               no\n",
       "45208    yes              yes\n",
       "45209     no               no\n",
       "45210     no               no\n",
       "\n",
       "[45211 rows x 2 columns]"
      ]
     },
     "execution_count": 27,
     "metadata": {},
     "output_type": "execute_result"
    }
   ],
   "source": [
    "y_pred_df"
   ]
  },
  {
   "cell_type": "code",
   "execution_count": 28,
   "id": "5feb3be7",
   "metadata": {},
   "outputs": [
    {
     "name": "stdout",
     "output_type": "stream",
     "text": [
      "[[39342   580]\n",
      " [ 4435   854]]\n"
     ]
    }
   ],
   "source": [
    "from sklearn.metrics import confusion_matrix\n",
    "from sklearn.metrics import accuracy_score as ac\n",
    "confusion_matrix = confusion_matrix(Y,y_pred)\n",
    "print (confusion_matrix)"
   ]
  },
  {
   "cell_type": "code",
   "execution_count": 29,
   "id": "7c6b04d2",
   "metadata": {},
   "outputs": [
    {
     "data": {
      "text/plain": [
       "0.8890756674260689"
      ]
     },
     "execution_count": 29,
     "metadata": {},
     "output_type": "execute_result"
    }
   ],
   "source": [
    "ac(Y,y_pred)"
   ]
  },
  {
   "cell_type": "code",
   "execution_count": 30,
   "id": "5a064a34",
   "metadata": {},
   "outputs": [
    {
     "name": "stdout",
     "output_type": "stream",
     "text": [
      "              precision    recall  f1-score   support\n",
      "\n",
      "          no       0.90      0.99      0.94     39922\n",
      "         yes       0.60      0.16      0.25      5289\n",
      "\n",
      "    accuracy                           0.89     45211\n",
      "   macro avg       0.75      0.57      0.60     45211\n",
      "weighted avg       0.86      0.89      0.86     45211\n",
      "\n"
     ]
    }
   ],
   "source": [
    "from sklearn.metrics import classification_report\n",
    "print(classification_report(Y,y_pred))"
   ]
  },
  {
   "cell_type": "code",
   "execution_count": null,
   "id": "29309e56",
   "metadata": {},
   "outputs": [],
   "source": []
  }
 ],
 "metadata": {
  "kernelspec": {
   "display_name": "Python 3 (ipykernel)",
   "language": "python",
   "name": "python3"
  },
  "language_info": {
   "codemirror_mode": {
    "name": "ipython",
    "version": 3
   },
   "file_extension": ".py",
   "mimetype": "text/x-python",
   "name": "python",
   "nbconvert_exporter": "python",
   "pygments_lexer": "ipython3",
   "version": "3.9.12"
  }
 },
 "nbformat": 4,
 "nbformat_minor": 5
}
